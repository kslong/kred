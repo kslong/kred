{
 "cells": [
  {
   "cell_type": "markdown",
   "id": "1355d05c-0b1c-449c-ad7f-618edb86a6e4",
   "metadata": {
    "tags": []
   },
   "source": [
    "# Perform some basic checks on the Installation\n",
    "\n",
    "In a proper installation of kred, the enviroment variagle KRED should be set, and \n",
    "kred/py_progs should be in PATH and PYTHONPATH\n",
    "\n",
    "for bash one needs to add the following to .bashrc or .bash_profile\n",
    "\n",
    "```\n",
    "export KRED=$HOME/kred/\n",
    "PATH=$PATH:$KRED/py_progs/\n",
    "PYTHONPATH=$PYTHONPATH:$KRED/py_progs/\n",
    "```\n",
    "\n",
    "Here we simply perform some simple checks, which should check whether one can access the software.\n",
    "\n",
    "\n",
    "This script should be copied to and run from the directory where you plan to prepare the data from, that is to say a directory at \n",
    "the top level of the kred reduction area.  Simply copy the script there.  It can also be run from the examples directory, but some of the latter tests may fail, or rather will produce errors."
   ]
  },
  {
   "cell_type": "code",
   "execution_count": 34,
   "id": "105d0f8d-4736-4f63-86e5-703855104bae",
   "metadata": {},
   "outputs": [],
   "source": [
    "import os\n",
    "import subprocess\n"
   ]
  },
  {
   "cell_type": "markdown",
   "id": "554f31fd-6144-42e1-9595-fe7c3000ed27",
   "metadata": {},
   "source": [
    "The next line should return the place whre kred is installed on your system.  If not, then check that KRED is deffined in a terminal window"
   ]
  },
  {
   "cell_type": "code",
   "execution_count": 35,
   "id": "b2eb71e2-1cf1-45e3-9936-00d691332d0a",
   "metadata": {},
   "outputs": [
    {
     "data": {
      "text/plain": [
       "'/home/long/kred/'"
      ]
     },
     "execution_count": 35,
     "metadata": {},
     "output_type": "execute_result"
    }
   ],
   "source": [
    "os.getenv('KRED')"
   ]
  },
  {
   "cell_type": "markdown",
   "id": "5bbc4067-440a-4315-8ed3-84d14701b903",
   "metadata": {},
   "source": [
    "Now chedk that one can load one of the modules"
   ]
  },
  {
   "cell_type": "code",
   "execution_count": 36,
   "id": "847f9175-ddd7-497c-b23c-103ad67045b1",
   "metadata": {},
   "outputs": [],
   "source": [
    "import PrepFiles\n"
   ]
  },
  {
   "cell_type": "code",
   "execution_count": 37,
   "id": "606d08b1-6c9a-4177-bdcb-655c08a9f2c6",
   "metadata": {},
   "outputs": [],
   "source": [
    "import SumFiles"
   ]
  },
  {
   "cell_type": "markdown",
   "id": "6eb1767a-ccec-4c4f-9eff-f223b78bd462",
   "metadata": {},
   "source": [
    "## Verify that one can run PrepFiles"
   ]
  },
  {
   "cell_type": "code",
   "execution_count": 38,
   "id": "d93264e1-44f3-4ec4-9cee-ba426a132338",
   "metadata": {},
   "outputs": [
    {
     "name": "stdout",
     "output_type": "stream",
     "text": [
      "\n",
      "Prepare files for Combining into tile images\n",
      "\n",
      "This extracts a relevent set of CCD images from the raw MEF files and writes them to a simpler version of the same files with be desired science data in the only image extension.  It also does background subraction etc if that is requred\n",
      "# \n",
      "The names are the same as used by Photpipe\n",
      " \n",
      "This the first step after the data has been prepared with Photopipe, and deposited in the raw directories\n",
      "j \n",
      "This is where any processing of the individal files is done that cannot be done by swarp**\n",
      " \n",
      "This versions uses zero points for rescaling, and does background subtrraction\n",
      "\n",
      "Usage:  PrepFiles.py [-finish] [-all]  Field_name  [one or more tile numbers]\n",
      "\n",
      "where -finish --> do not redo files that have already been processed\n",
      "      -all    --> do all tiles for a fields\n",
      "\n",
      "If -all is not provide then there must be one or more tile numbes, e. g. 1 5 7, listed\n",
      "\n",
      "\n"
     ]
    }
   ],
   "source": [
    "x=subprocess.run('PrepFiles.py',capture_output=True)\n",
    "print(str(x.stdout,'utf-8'))"
   ]
  },
  {
   "cell_type": "code",
   "execution_count": 39,
   "id": "04211932-aaf0-4f18-a1b5-f0e9367251d4",
   "metadata": {},
   "outputs": [
    {
     "data": {
      "text/plain": [
       "<module 'Swarp' from '/home/long/kred/py_progs/Swarp.py'>"
      ]
     },
     "execution_count": 39,
     "metadata": {},
     "output_type": "execute_result"
    }
   ],
   "source": [
    "from importlib import reload\n",
    "import Swarp\n",
    "reload(Swarp)"
   ]
  },
  {
   "cell_type": "code",
   "execution_count": 40,
   "id": "9f239c38-7cd1-416c-ad50-264bf27c37b9",
   "metadata": {},
   "outputs": [
    {
     "name": "stdout",
     "output_type": "stream",
     "text": [
      "Help on module Swarp:\n",
      "\n",
      "NAME\n",
      "    Swarp - Create Combined images of the different filters in the field\n",
      "\n",
      "DESCRIPTION\n",
      "    This can only be run after PrepFiles and SumFiles have benn run.    The routines here generate \n",
      "    inputs to run swarp which combines the individual CCD images into tile images.  It does not\n",
      "    actually run swarp at present\n",
      "\n",
      "FUNCTIONS\n",
      "    create_swarp_command(field='LMC_c42', tile=7, filt='Ha', exp=[30, 800], defaults='\\n# Default configuration file for SWarp 2.38.0\\n# EB 2019-07-10\\n#\\n#----------------------------------- Output -----------------------------------\\nIMAGEOUT_NAME          %s.fits      # Output filename\\nWEIGHTOUT_NAME       %s.weight.fits # Output weight-map filename\\n\\nHEADER_ONLY            N               # Only a header as an output file (Y/N)?\\nHEADER_SUFFIX          .head           # Filename extension for additional headers\\n\\n#------------------------------- Input Weights --------------------------------\\n\\nWEIGHT_TYPE            NONE            # BACKGROUND,MAP_RMS,MAP_VARIANCE\\n                                       # or MAP_WEIGHT\\nWEIGHT_SUFFIX          .weight.fits    # Suffix to use for weight-maps\\nWEIGHT_IMAGE                           # Weightmap filename if suffix not used\\n                                       # (all or for each weight-map)\\n\\n#------------------------------- Co-addition ----------------------------------\\n\\nCOMBINE                Y               # Combine resampled images (Y/N)?\\nCOMBINE_TYPE           MEDIAN          # MEDIAN,AVERAGE,MIN,MAX,WEIGHTED,CLIPPED\\n                                       # CHI-OLD,CHI-MODE,CHI-MEAN,SUM,\\n                                       # WEIGHTED_WEIGHT,MEDIAN_WEIGHT,\\n                                       # AND,NAND,OR or NOR\\n\\n#-------------------------------- Astrometry ----------------------------------\\n\\nCELESTIAL_TYPE         NATIVE          # NATIVE, PIXEL, EQUATORIAL,\\n                                       # GALACTIC,ECLIPTIC, or SUPERGALACTIC\\nPROJECTION_TYPE        TAN             # Any WCS projection code or NONE\\nPROJECTION_ERR         0.001           # Maximum projection error (in output\\n                                       # pixels), or 0 for no approximation\\nCENTER_TYPE            MANUAL          # MANUAL, ALL or MOST\\nCENTER                %f, %f  # Coordinates of the image center\\nPIXELSCALE_TYPE        MANUAL          # MANUAL,FIT,MIN,MAX or MEDIAN\\nPIXEL_SCALE            0.27            # Pixel scale\\nIMAGE_SIZE          8700,8700          # Image size (0 = AUTOMATIC)\\n\\n#-------------------------------- Resampling ----------------------------------\\n\\nRESAMPLE               Y               # Resample input images (Y/N)?\\nRESAMPLE_DIR           .               # Directory path for resampled images\\nRESAMPLE_SUFFIX        .resamp.fits    # filename extension for resampled images\\n\\nRESAMPLING_TYPE        LANCZOS3        # NEAREST,BILINEAR,LANCZOS2,LANCZOS3\\n                                       # LANCZOS4 (1 per axis) or FLAGS\\nOVERSAMPLING           0               # Oversampling in each dimension\\n                                       # (0 = automatic)\\nINTERPOLATE            N               # Interpolate bad input pixels (Y/N)?\\n                                       # (all or for each image)\\n\\nFSCALASTRO_TYPE        FIXED           # NONE,FIXED, or VARIABLE\\nFSCALE_KEYWORD         FLXSCALE        # FITS keyword for the multiplicative\\n                                       # factor applied to each input image\\nFSCALE_DEFAULT         1.0             # Default FSCALE value if not in header\\n\\nGAIN_KEYWORD           GAIN            # FITS keyword for effect. gain (e-/ADU)\\nGAIN_DEFAULT           0.0             # Default gain if no FITS keyword found\\n\\n#--------------------------- Background subtraction ---------------------------\\n\\nSUBTRACT_BACK          N               # Subtraction sky background (Y/N)?\\n                                       # (all or for each image)\\n\\nBACK_TYPE              AUTO            # AUTO or MANUAL\\n                                       # (all or for each image)\\nBACK_DEFAULT           0.0             # Default background value in MANUAL\\n                                       # (all or for each image)\\nBACK_SIZE             2048             # Background mesh size (pixels)\\n                                       # (all or for each image)\\nBACK_FILTERSIZE        3               # Background map filter range (meshes)\\n                                       # (all or for each image)\\n\\n#------------------------------ Memory management -----------------------------\\n\\nVMEM_DIR               .               # Directory path for swap files\\nVMEM_MAX               2047            # Maximum amount of virtual memory (MB)\\nMEM_MAX                256             # Maximum amount of usable RAM (MB)\\nCOMBINE_BUFSIZE        256             # RAM dedicated to co-addition(MB)\\n\\n#------------------------------ Miscellaneous ---------------------------------\\nDELETE_TMPFILES        Y               # Delete temporary resampled FITS files\\n                                       # (Y/N)?\\nCOPY_KEYWORDS          OBJECT          # List of FITS keywords to propagate\\n                                       # from the input to the output headers\\nWRITE_FILEINFO         N               # Write information about each input\\n                                       # file in the output image header?\\nWRITE_XML              Y               # Write XML file (Y/N)?\\nXML_NAME               swarp.xml       # Filename for XML output\\nVERBOSE_TYPE           NORMAL          # QUIET,LOG,NORMAL, or FULL\\n\\nNTHREADS               0               # Number of simultaneous threads for\\n                                       # the SMP version of SWarp\\n                                       # 0 = automatic\\n')\n",
      "        Generate the inputs necessary to run swarp\n",
      "    \n",
      "    create_swarp_dir(field='LMC_c42', tile=7)\n",
      "        Create a diretory for the swarp outputs if it does not exist\n",
      "    \n",
      "    get_sum_tab(field='LMC_c42', tile=7)\n",
      "        Read a table that summarizes information about\n",
      "        the various files athat are used for a tile\n",
      "        \n",
      "        The location of the table files is currently hardocaded\n",
      "    \n",
      "    steer(argv)\n",
      "        This is just a steering routine for running from the command line\n",
      "        \n",
      "        (Currently this is not set up for this routine)\n",
      "    \n",
      "    summarize(field='LMC_c42', tile=7)\n",
      "        Summarize the various fits files that are relevant to\n",
      "        a specific tile\n",
      "\n",
      "DATA\n",
      "    xdefault = '\\n# Default configuration file for SWarp 2.38.0\\n#...     ...\n",
      "\n",
      "FILE\n",
      "    /home/long/kred/py_progs/Swarp.py\n",
      "\n",
      "\n"
     ]
    }
   ],
   "source": [
    "help(Swarp)"
   ]
  },
  {
   "cell_type": "markdown",
   "id": "ca192f2f-68d2-483c-a272-578ec2ebc28c",
   "metadata": {},
   "source": [
    "The next commmdand will fail if the field and tile have not been prepped, and SumFiles has not be run on the tile, but even if it fails (by not finding the file that should be sufficient."
   ]
  },
  {
   "cell_type": "code",
   "execution_count": 41,
   "id": "b4b39d4e-b01c-45a9-8cd9-f8d563cc2735",
   "metadata": {},
   "outputs": [
    {
     "name": "stdout",
     "output_type": "stream",
     "text": [
      "The center of thist tile is 81.10311  -66.17105\n",
      "Ha  images  : 194\n",
      "SII images  : 441\n",
      "R   images  : 441\n",
      "N708 images : 660\n",
      "\n",
      "Ha\n",
      "   exp     30.0  no   70\n",
      "   exp 400.9504  no   17\n",
      "   exp    800.0  no  107\n",
      "\n",
      "SII\n",
      "   exp     60.0  no  220\n",
      "   exp    800.0  no  221\n",
      "\n",
      "R\n",
      "   exp      8.0  no  220\n",
      "   exp     60.0  no  221\n",
      "\n",
      "N708\n",
      "   exp     30.0  no  220\n",
      "   exp     60.0  no  220\n",
      "   exp    400.0  no  220\n"
     ]
    },
    {
     "data": {
      "text/plain": [
       "(81.10310995967741, -66.17104991935484)"
      ]
     },
     "execution_count": 41,
     "metadata": {},
     "output_type": "execute_result"
    }
   ],
   "source": [
    "Swarp.summarize('LMC_c42',7)"
   ]
  }
 ],
 "metadata": {
  "kernelspec": {
   "display_name": "Python [conda env:ksl]",
   "language": "python",
   "name": "conda-env-ksl-py"
  },
  "language_info": {
   "codemirror_mode": {
    "name": "ipython",
    "version": 3
   },
   "file_extension": ".py",
   "mimetype": "text/x-python",
   "name": "python",
   "nbconvert_exporter": "python",
   "pygments_lexer": "ipython3",
   "version": "3.9.16"
  }
 },
 "nbformat": 4,
 "nbformat_minor": 5
}
