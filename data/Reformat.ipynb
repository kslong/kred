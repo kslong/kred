{
 "cells": [
  {
   "cell_type": "markdown",
   "id": "9986bc7a-9ee6-4397-b9f1-936965ed1ac8",
   "metadata": {},
   "source": [
    "# Reformat the tables so that they are more easily readable"
   ]
  },
  {
   "cell_type": "code",
   "execution_count": 29,
   "id": "3fb648c0-9344-44c5-a74d-8623e9259849",
   "metadata": {
    "tags": []
   },
   "outputs": [],
   "source": [
    "from astropy.io import ascii"
   ]
  },
  {
   "cell_type": "code",
   "execution_count": 35,
   "id": "4cc16207-8f2e-476d-9080-c8add846eca0",
   "metadata": {
    "tags": []
   },
   "outputs": [],
   "source": [
    "def do_one(infile='orig_n662.txt',outfile='n662.txt',wmin=6000,wmax=7000):\n",
    "    x=ascii.read(infile)\n",
    "    x.rename_column('col1','WAVE')\n",
    "    x.rename_column('col2','TRANS')\n",
    "    x['WAVE']*=10\n",
    "    x=x[x['WAVE']>wmin]\n",
    "    x=x[x['WAVE']<wmax]\n",
    "    x.sort('WAVE')\n",
    "    x.write(outfile,format='ascii.fixed_width_two_line',overwrite=True)\n",
    "    \n",
    "do_one()"
   ]
  },
  {
   "cell_type": "code",
   "execution_count": 36,
   "id": "18f6c7c7-1e2f-476a-84d3-c3ea51ad0276",
   "metadata": {
    "tags": []
   },
   "outputs": [],
   "source": [
    "do_one(infile='orig_n673.txt',outfile='n673.txt',wmin=6000,wmax=7000)"
   ]
  },
  {
   "cell_type": "code",
   "execution_count": 37,
   "id": "37908ac4-8565-40f4-97a7-34a879aefa18",
   "metadata": {
    "tags": []
   },
   "outputs": [],
   "source": [
    "do_one('orig_r.txt','r.txt',wmin=5000,wmax=8000)"
   ]
  },
  {
   "cell_type": "code",
   "execution_count": 38,
   "id": "86fc05c6-4d95-4163-b332-abff5cfcc633",
   "metadata": {
    "tags": []
   },
   "outputs": [],
   "source": [
    "do_one('orig_n708.txt','n708.txt',wmin=6000,wmax=8000)"
   ]
  },
  {
   "cell_type": "code",
   "execution_count": null,
   "id": "f3c7c922-b9e8-42c0-b79a-81af9582ec93",
   "metadata": {},
   "outputs": [],
   "source": []
  }
 ],
 "metadata": {
  "kernelspec": {
   "display_name": "Python [conda env:ksl]",
   "language": "python",
   "name": "conda-env-ksl-py"
  },
  "language_info": {
   "codemirror_mode": {
    "name": "ipython",
    "version": 3
   },
   "file_extension": ".py",
   "mimetype": "text/x-python",
   "name": "python",
   "nbconvert_exporter": "python",
   "pygments_lexer": "ipython3",
   "version": "3.11.5"
  }
 },
 "nbformat": 4,
 "nbformat_minor": 5
}
